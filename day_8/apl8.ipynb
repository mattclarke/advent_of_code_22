{
 "cells": [
  {
   "cell_type": "code",
   "execution_count": null,
   "id": "1aa40a50-a81f-474a-847b-e40f1cc87c5b",
   "metadata": {},
   "outputs": [],
   "source": [
    "⎕IO ← 0            ⍝ Index origin is zero\n",
    "]box on -style=max ⍝ Show boxes at max verbosity\n",
    "]rows on           ⍝ Don't wrap long output lines\n",
    "I←⌷⍨∘⊃⍨⍤0 99       ⍝ Sane indexing\n",
    "assert ← {⍺ ← 'assertion failure' ⋄ 0∊⍵: ⍺ ⎕signal 8 ⋄ shy ← 0} ⍝ assert"
   ]
  },
  {
   "cell_type": "markdown",
   "id": "fd9d620f-03eb-4329-aa16-d4029aac1cb6",
   "metadata": {},
   "source": [
    "## Part: visible trees"
   ]
  },
  {
   "cell_type": "markdown",
   "id": "61eb9c9c-57b5-4b2b-8862-e6eb00012597",
   "metadata": {},
   "source": [
    "#### Example data"
   ]
  },
  {
   "cell_type": "code",
   "execution_count": null,
   "id": "69333008-7312-4154-a1a8-bd0dcde5bc9a",
   "metadata": {},
   "outputs": [],
   "source": [
    "⎕ ← heights ← ⊃⎕NGET'ex1.txt'1\n",
    "⎕ ← heights ← ↑⍎¨¨heights"
   ]
  },
  {
   "cell_type": "code",
   "execution_count": null,
   "id": "8bc9ecc6-0ad1-4713-a6c9-0370c7fad84c",
   "metadata": {},
   "outputs": [],
   "source": [
    "⍝ The basic algorithm (from the internet)\n",
    "⌈⍀heights                       ⍝ Max scan downwards\n",
    "¯1⍪¯1↓⌈⍀heights                 ⍝ Drop the last row and catenate -1 because we can always see the first row\n",
    "heights>¯1⍪¯1↓⌈⍀heights         ⍝ Compare the heights. 1 = visible\n",
    "find_visible ← {⍵>¯1⍪¯1↓⌈⍀⍵}"
   ]
  },
  {
   "cell_type": "code",
   "execution_count": null,
   "id": "b2be3d08-b251-49dc-a4c4-e7be27872a00",
   "metadata": {},
   "outputs": [],
   "source": [
    "⍝ Use rotation to do it for all fours direction\n",
    "4⍴⊂heights\n",
    "{⌽⍉⍵}\\4⍴⊂heights\n",
    "rotations ← {{⌽⍉⍵}\\4⍴⊂⍵}\n",
    "find_visible¨{⌽⍉⍵}\\4⍴⊂heights"
   ]
  },
  {
   "cell_type": "code",
   "execution_count": null,
   "id": "621af102-0a5d-44a4-acce-eae174965679",
   "metadata": {},
   "outputs": [],
   "source": [
    "⍝ Need to move to the same orientation\n",
    "rotations heights                ⍝ Rotate\n",
    "↑rotations¨rotations heights     ⍝ Get the rotations for each rotation\n",
    "(0 3)(1 2)(2 1)(3 0)I↑rotations¨rotations heights     ⍝ Pick out a set of the same rotations\n",
    "get_same_orientation ← {(0 3)(1 2)(2 1)(3 0)I↑rotations¨⍵}\n",
    "{{⌽⍉⍵}\\⌽¨{⌽⍉⍵}\\4⍴⊂⍵}heights     ⍝ Internet alternative - doesn't return to original orientation but all end up in the same orientation"
   ]
  },
  {
   "cell_type": "code",
   "execution_count": null,
   "id": "7a2ba2c2-f6bc-4ce1-8d3c-fcd4e419bdc4",
   "metadata": {},
   "outputs": [],
   "source": [
    "get_same_orientation find_visible¨rotations heights\n",
    "∨⌿get_same_orientation find_visible¨rotations heights                 ⍝ Reduce using 'or'\n",
    ",⊃∨⌿get_same_orientation find_visible¨rotations heights               ⍝ Flatten\n",
    "+/,⊃∨⌿get_same_orientation find_visible¨rotations heights             ⍝ Count trees"
   ]
  },
  {
   "cell_type": "markdown",
   "id": "37375b84-fc73-4fe2-bf53-d337f6d70943",
   "metadata": {},
   "source": [
    "### Real data"
   ]
  },
  {
   "cell_type": "code",
   "execution_count": null,
   "id": "43ec4796-4ba4-427f-b374-7840d4766961",
   "metadata": {},
   "outputs": [],
   "source": [
    "heights ← ↑⍎¨¨⊃⎕NGET'input.txt'1\n",
    "assert 1647 = +/,⊃∨⌿get_same_orientation find_visible¨rotations heights"
   ]
  },
  {
   "cell_type": "code",
   "execution_count": null,
   "id": "960b2d6a-4785-4c27-84c0-9b8fc8a4e10f",
   "metadata": {},
   "outputs": [],
   "source": [
    "⍝ Internet solution\n",
    "h←⍎¨↑⊃⎕nget'input.txt'1\n",
    "f←{↑{⌽⍉⍵}\\⌽⍺⍺¨{⌽⍉⍵}\\4⍴⊂⍵}\n",
    "assert 1647 = +/,∨⌿(⊢>¯1⍪¯1↓⌈⍀)f h"
   ]
  },
  {
   "cell_type": "markdown",
   "id": "ff8c0c52-26df-4565-b28a-be36093a6ef8",
   "metadata": {},
   "source": [
    "## Part 2: furthest view from a tree"
   ]
  },
  {
   "cell_type": "code",
   "execution_count": null,
   "id": "107e5245-1b92-4197-b6bd-535b508df822",
   "metadata": {},
   "outputs": [],
   "source": [
    "⎕ ← heights ← ⍎¨↑⊃⎕nget'ex1.txt'1"
   ]
  },
  {
   "cell_type": "code",
   "execution_count": null,
   "id": "8ba16ffb-b06b-4f8b-a152-ceb244c287b9",
   "metadata": {},
   "outputs": [],
   "source": [
    ",⍀heights"
   ]
  },
  {
   "cell_type": "code",
   "execution_count": null,
   "id": "612d5577-1079-4285-8587-e13b6f195f1c",
   "metadata": {},
   "outputs": [],
   "source": [
    "heights{⍺>⍵}¨,⍀heights"
   ]
  },
  {
   "cell_type": "code",
   "execution_count": null,
   "id": "3d2ce584-da7b-4e64-9d90-866af4b2beb8",
   "metadata": {},
   "outputs": [],
   "source": []
  }
 ],
 "metadata": {
  "kernelspec": {
   "display_name": "Dyalog APL",
   "language": "apl",
   "name": "dyalog_apl"
  },
  "language_info": {
   "file_extension": ".apl",
   "mimetype": "text/apl",
   "name": "APL"
  }
 },
 "nbformat": 4,
 "nbformat_minor": 5
}
