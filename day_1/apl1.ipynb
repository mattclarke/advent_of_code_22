{
 "cells": [
  {
   "cell_type": "code",
   "execution_count": null,
   "id": "1aa40a50-a81f-474a-847b-e40f1cc87c5b",
   "metadata": {},
   "outputs": [],
   "source": [
    "⎕IO ← 0            ⍝ Index origin is zero\n",
    "]box on -style=max ⍝ Show boxes at max verbosity\n",
    "]rows on           ⍝ Don't wrap long output lines\n",
    "I←⌷⍨∘⊃⍨⍤0 99       ⍝ Sane indexing\n",
    "assert ← {⍺ ← 'assertion failure' ⋄ 0∊⍵: ⍺ ⎕signal 8 ⋄ shy ← 0} ⍝ assert"
   ]
  },
  {
   "cell_type": "markdown",
   "id": "52fdbb84-49af-433a-8705-4fa291ec0341",
   "metadata": {},
   "source": [
    "## Part 1: find the biggest \"group\""
   ]
  },
  {
   "cell_type": "markdown",
   "id": "61eb9c9c-57b5-4b2b-8862-e6eb00012597",
   "metadata": {},
   "source": [
    "#### Example data"
   ]
  },
  {
   "cell_type": "code",
   "execution_count": null,
   "id": "5e566439-2c49-40ec-9f47-56705f22d48b",
   "metadata": {},
   "outputs": [],
   "source": [
    "⎕ ← example_data ← (1000 2000 3000) (4000) (5000 6000) (7000 8000 9000) (10000)"
   ]
  },
  {
   "cell_type": "markdown",
   "id": "7f0351e4-2839-41ca-9f61-cf306fcf192b",
   "metadata": {},
   "source": [
    "Reduce gives the sum of each row"
   ]
  },
  {
   "cell_type": "code",
   "execution_count": null,
   "id": "67c5f447-bcf3-4402-b5ec-00ae457b199d",
   "metadata": {},
   "outputs": [],
   "source": [
    "+/¨example_data"
   ]
  },
  {
   "cell_type": "markdown",
   "id": "a3fcd6a6-7e6a-4321-b7c4-e81643d03447",
   "metadata": {},
   "source": [
    "Then just find the maximum"
   ]
  },
  {
   "cell_type": "code",
   "execution_count": null,
   "id": "1cfe0d21-2b1a-43c4-9f84-202c619bce69",
   "metadata": {},
   "outputs": [],
   "source": [
    "assert 24000 = ⌈/+/¨example_data"
   ]
  },
  {
   "cell_type": "markdown",
   "id": "35aa7dfe-a4d1-4717-872d-753a0cb31832",
   "metadata": {},
   "source": [
    "#### Real data"
   ]
  },
  {
   "cell_type": "code",
   "execution_count": null,
   "id": "b339c394-b159-44eb-acea-73d8da9b2b90",
   "metadata": {},
   "outputs": [],
   "source": [
    "raw_input←⊃⎕NGET'input.txt'1            ⍝ Read a file. 1 is a flag to say include newlines\n",
    "11↑ raw_input                           ⍝ Show the first 11 lines\n",
    "11↑ ≢¨raw_input                         ⍝ Tally up the chars in each line -> 0 indicates a blank line\n",
    "11↑ ×≢¨raw_input                        ⍝ Direction gives us 0 for blank lines and 1 for non-blank\n",
    "1↑ (×≢¨raw_input)⊆raw_input             ⍝ ⊆ (partition) separates the lines based on the directions\n",
    "1↑ ((×≢¨)⊆⊢)raw_input                   ⍝ Change to use a \"fork\", (f x) h (g x) = (f h g) x. ⊢ is identity\n",
    "input←⍎¨¨((×≢¨)⊆⊢)raw_input             ⍝ Finally, double map (because the arrays are two deep) to convert the chars to ints"
   ]
  },
  {
   "cell_type": "code",
   "execution_count": null,
   "id": "b65ccdeb-b447-46ce-82bb-214bf5a19018",
   "metadata": {},
   "outputs": [],
   "source": [
    "assert 67633 = ⌈/+/¨input"
   ]
  },
  {
   "cell_type": "markdown",
   "id": "4f160109-fca1-46e1-be25-e94a93bac369",
   "metadata": {},
   "source": [
    "## Part 2: find the sum of the biggest three"
   ]
  },
  {
   "cell_type": "markdown",
   "id": "ff794bb0-aad6-457b-9cff-3e310b17268d",
   "metadata": {},
   "source": [
    "Reverse sort the input and take the first 3 values (they are the indices for the 3 biggest)"
   ]
  },
  {
   "cell_type": "code",
   "execution_count": null,
   "id": "fe5377b6-4fdd-40cd-9de1-f60a7b7d98d0",
   "metadata": {},
   "outputs": [],
   "source": [
    "3↑⍒+/¨input"
   ]
  },
  {
   "cell_type": "markdown",
   "id": "ee598af4-9fad-4f48-b1ab-ca7fdf280483",
   "metadata": {},
   "source": [
    "Use the indices to get the values"
   ]
  },
  {
   "cell_type": "code",
   "execution_count": null,
   "id": "10b8d5b5-29eb-4d7f-b317-d6aaa63341f2",
   "metadata": {},
   "outputs": [],
   "source": [
    "{(3↑⍒⍵)I⍵}+/¨input"
   ]
  },
  {
   "cell_type": "markdown",
   "id": "6bd36488-5e51-41af-81e9-d000cfe0c20b",
   "metadata": {},
   "source": [
    "Then sum"
   ]
  },
  {
   "cell_type": "code",
   "execution_count": null,
   "id": "88921319-5822-404d-a85b-606c59d98e8f",
   "metadata": {},
   "outputs": [],
   "source": [
    "assert 199628 = +/{(3↑⍒⍵)I⍵}+/¨input"
   ]
  }
 ],
 "metadata": {
  "kernelspec": {
   "display_name": "Dyalog APL",
   "language": "apl",
   "name": "dyalog_apl"
  },
  "language_info": {
   "file_extension": ".apl",
   "mimetype": "text/apl",
   "name": "APL"
  }
 },
 "nbformat": 4,
 "nbformat_minor": 5
}
