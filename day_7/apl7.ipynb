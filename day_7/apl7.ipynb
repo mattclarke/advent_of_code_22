{
 "cells": [
  {
   "cell_type": "code",
   "execution_count": null,
   "id": "1aa40a50-a81f-474a-847b-e40f1cc87c5b",
   "metadata": {},
   "outputs": [],
   "source": [
    "⎕IO ← 0            ⍝ Index origin is zero\n",
    "]box on -style=max ⍝ Show boxes at max verbosity\n",
    "]rows on           ⍝ Don't wrap long output lines\n",
    "I←⌷⍨∘⊃⍨⍤0 99       ⍝ Sane indexing\n",
    "assert ← {⍺ ← 'assertion failure' ⋄ 0∊⍵: ⍺ ⎕signal 8 ⋄ shy ← 0} ⍝ assert"
   ]
  },
  {
   "cell_type": "markdown",
   "id": "fd9d620f-03eb-4329-aa16-d4029aac1cb6",
   "metadata": {},
   "source": [
    "## Part 1: find the directories of size less than 100,000\n",
    "Solution is completely copied from the internet!"
   ]
  },
  {
   "cell_type": "markdown",
   "id": "61eb9c9c-57b5-4b2b-8862-e6eb00012597",
   "metadata": {},
   "source": [
    "#### Example data"
   ]
  },
  {
   "cell_type": "code",
   "execution_count": null,
   "id": "69333008-7312-4154-a1a8-bd0dcde5bc9a",
   "metadata": {},
   "outputs": [],
   "source": [
    "example ← ⊃⎕NGET'ex1.txt'1\n",
    "10↑example"
   ]
  },
  {
   "cell_type": "code",
   "execution_count": null,
   "id": "ccac7134-3ef4-4b9d-bade-076bd85181c8",
   "metadata": {},
   "outputs": [],
   "source": [
    "↑' '(≠⊆⊢)¨example         ⍝ split on spaces and mix"
   ]
  },
  {
   "cell_type": "code",
   "execution_count": null,
   "id": "76199466-ba35-47d9-be2b-335a51a8ffc9",
   "metadata": {},
   "outputs": [],
   "source": [
    "⍝ We note that the 3rd column is empty on all command except the 'cd's\n",
    "mat ← ↑' '(≠⊆⊢)¨example\n",
    "⍝ Convert first column to numbers, use error guard to replace non-numeric strings with 0\n",
    "⎕ ← sizes ← {0::0 ⋄ ⍎⍵}¨⊣/mat"
   ]
  },
  {
   "cell_type": "code",
   "execution_count": null,
   "id": "298db09d-7151-48a1-8216-4db820ea1dfc",
   "metadata": {},
   "outputs": [],
   "source": [
    "⊃¨⊢/mat                 ⍝ Selects the first character of the 3rd column\n",
    "'. '⍳⊃¨⊢/mat            ⍝ Replace with numbers (0 for ., 1 for space, 2 for chars)\n",
    "¯1 0 1['. '⍳⊃¨⊢/mat]    ⍝ Replace with -1, 0, 1\n",
    "⎕ ← depths ← +\\¯1 0 1['. '⍳⊃¨⊢/mat]  ⍝ Do a plus-scan, then we now know the directory depths"
   ]
  },
  {
   "cell_type": "code",
   "execution_count": null,
   "id": "cffa34ee-72c6-4f32-b6be-6f8e1b808c59",
   "metadata": {},
   "outputs": [],
   "source": [
    "depths∘.=⍨∪depths               ⍝ Indicate which level we are at as we execute the commands \n",
    "(∪depths)∘.=depths              ⍝ Same but with parens rather than selfie\n",
    "(⊃¨⊢/mat)⍪depths∘.=⍨∪depths      ⍝ Use concatenate to show the dirs (just for illustration purposes)"
   ]
  },
  {
   "cell_type": "code",
   "execution_count": null,
   "id": "d23bb726-d822-4cbc-811d-dc99d9770c0e",
   "metadata": {},
   "outputs": [],
   "source": [
    "⍝ While we are in e, we are still in a and / so change to <=\n",
    "⍝ Now we can see 1s for all directories we are currently in\n",
    "depths∘.≤⍨∪depths "
   ]
  },
  {
   "cell_type": "code",
   "execution_count": null,
   "id": "43bc4a19-3fe1-4d65-a671-5a725391b866",
   "metadata": {},
   "outputs": [],
   "source": [
    "2↑(↓depths∘.≤⍨∪depths)              ⍝ split into arrays\n",
    "1↓(⊆∘sizes¨↓depths∘.≤⍨∪depths)      ⍝ partition against sizes gives us the sizes of all files under that dir\n",
    "⍝ For example, we can see that there are only three \"files\" in e (0 for 'cd e' and 'ls')\n",
    "⍝ Note: the second row is split in two, one representing a (including sub dir e) and one representing d"
   ]
  },
  {
   "cell_type": "code",
   "execution_count": null,
   "id": "ca815fd7-83f4-43a5-a81a-8ccaa7748db0",
   "metadata": {},
   "outputs": [],
   "source": [
    "⍝ Then we sum the files at each level\n",
    "+/¨¨⊆∘sizes¨↓depths∘.≤⍨∪depths\n",
    "⎕ ← result ← ∊+/¨¨⊆∘sizes¨↓depths∘.≤⍨∪depths"
   ]
  },
  {
   "cell_type": "code",
   "execution_count": null,
   "id": "9994f37c-158e-4747-9a3b-0900b08e85e9",
   "metadata": {},
   "outputs": [],
   "source": [
    "1e5≥result\n",
    "(1e5≥result)/result\n",
    "\n",
    "assert 95437 = +/(1e5≥result)/result"
   ]
  },
  {
   "cell_type": "markdown",
   "id": "193963c5-8323-420e-befa-51b73a81fae6",
   "metadata": {},
   "source": [
    "### Real data"
   ]
  },
  {
   "cell_type": "code",
   "execution_count": null,
   "id": "edb7afc9-c362-48f6-bee6-ce636bc2bda6",
   "metadata": {},
   "outputs": [],
   "source": [
    "input ← ⊃⎕NGET'input.txt'1\n",
    "mat ← ↑' '(≠⊆⊢)¨input\n",
    "sizes ← {0::0 ⋄ ⍎⍵}¨⊣/mat\n",
    "depths ← +\\¯1 0 1['. '⍳⊃¨⊢/mat]\n",
    "result ← ∊+/¨¨⊆∘sizes¨↓depths∘.≤⍨∪depths\n",
    "assert 1297683 = +/(1e5≥result)/result"
   ]
  },
  {
   "cell_type": "markdown",
   "id": "9673b6c6-e96c-495b-a19e-7f90cb830dbc",
   "metadata": {},
   "source": [
    "## Part 2: Free up enough space by deleting the smallest directory"
   ]
  },
  {
   "cell_type": "code",
   "execution_count": null,
   "id": "0d5267a4-7e4f-4911-934a-e7850f7bdc5d",
   "metadata": {},
   "outputs": [],
   "source": [
    "total ← 70000000\n",
    "needed ← 30000000\n",
    "used ← total - ⌈/result\n",
    "to_free ← needed - used\n",
    "assert 5756764 = ⌊/result/⍨result≥to_free"
   ]
  },
  {
   "cell_type": "code",
   "execution_count": null,
   "id": "9f52b7da-7ead-4e97-ae72-9263fad83deb",
   "metadata": {},
   "outputs": [],
   "source": []
  }
 ],
 "metadata": {
  "kernelspec": {
   "display_name": "Dyalog APL",
   "language": "apl",
   "name": "dyalog_apl"
  },
  "language_info": {
   "file_extension": ".apl",
   "mimetype": "text/apl",
   "name": "APL"
  }
 },
 "nbformat": 4,
 "nbformat_minor": 5
}
