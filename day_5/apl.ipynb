{
 "cells": [
  {
   "cell_type": "code",
   "execution_count": null,
   "id": "1aa40a50-a81f-474a-847b-e40f1cc87c5b",
   "metadata": {},
   "outputs": [],
   "source": [
    "⎕IO ← 1            ⍝ Index origin is ONE\n",
    "]box on -style=max ⍝ Show boxes at max verbosity\n",
    "]rows on           ⍝ Don't wrap long output lines\n",
    "I←⌷⍨∘⊃⍨⍤0 99       ⍝ Sane indexing\n",
    "assert ← {⍺ ← 'assertion failure' ⋄ 0∊⍵: ⍺ ⎕signal 8 ⋄ shy ← 0} ⍝ assert"
   ]
  },
  {
   "cell_type": "markdown",
   "id": "fd9d620f-03eb-4329-aa16-d4029aac1cb6",
   "metadata": {},
   "source": [
    "## Part 1 & 2: moving crates"
   ]
  },
  {
   "cell_type": "markdown",
   "id": "61eb9c9c-57b5-4b2b-8862-e6eb00012597",
   "metadata": {},
   "source": [
    "#### Example data"
   ]
  },
  {
   "cell_type": "code",
   "execution_count": null,
   "id": "69333008-7312-4154-a1a8-bd0dcde5bc9a",
   "metadata": {},
   "outputs": [],
   "source": [
    "starting moves ← {⍵⊆⍨×≢¨⍵}⊃⎕NGET'ex1.txt'1      ⍝ partition by the blank line\n",
    "starting"
   ]
  },
  {
   "cell_type": "code",
   "execution_count": null,
   "id": "b2be3d08-b251-49dc-a4c4-e7be27872a00",
   "metadata": {},
   "outputs": [],
   "source": [
    "↑starting                                       ⍝ mix\n",
    "⍉↑starting                                      ⍝ transpose\n",
    "↓⍉↑starting                                     ⍝ split\n",
    "{4|⍳≢⍵}↓⍉↑starting                              ⍝ count up in fours\n",
    "{2=4|⍳≢⍵}↓⍉↑starting                            ⍝ select the \"2s\"\n",
    "{⍵/⍨2=4|⍳≢⍵}↓⍉↑starting                         ⍝ partition against the input\n",
    "⎕ ← starting ← ~∘' '¨{⍵/⍨2=4|⍳≢⍵}↓⍉↑starting    ⍝ remove the whitespace"
   ]
  },
  {
   "cell_type": "code",
   "execution_count": null,
   "id": "8bc9ecc6-0ad1-4713-a6c9-0370c7fad84c",
   "metadata": {},
   "outputs": [],
   "source": [
    "⎕ ← moves ← ⍎¨¨'\\d+'⎕S'&'¨moves                     ⍝ pull out the numbers ignore the rest"
   ]
  },
  {
   "cell_type": "markdown",
   "id": "dff01429-4472-4607-8acd-c41a340178de",
   "metadata": {},
   "source": [
    "### pop_and_move explained:\n",
    "```\n",
    "⍝ ⍺ is a 2-vector: (number_to_lift, 0).\n",
    "⍝ ⍵ is the two relevant stacks (from and to).\n",
    "⍝ ⍺⍺ is the function to apply to the lifted items (rotate for part 1, null op for part 2)\n",
    "pop_and_move ← {\n",
    "    t←⍺↓¨⍵               ⍝ (1)\n",
    "    u←⍺⍺¨⌽⍺↑¨⍵           ⍝ (2)\n",
    "    u,¨t                 ⍝ (3)\n",
    "}\n",
    "```\n",
    "(1) drops the specified number of items from the first stack (and 0 from the other)\n",
    "\n",
    "(2) takes the specified number of items from the first stack (and 0 from the other), swaps them and then applies the ⍺⍺ function to them\n",
    "\n",
    "(3) joins the results from (1) and (2) together"
   ]
  },
  {
   "cell_type": "code",
   "execution_count": null,
   "id": "5b18972a-b407-407e-b2bc-3589d88ad159",
   "metadata": {},
   "outputs": [],
   "source": [
    "pop_and_move ← {t←⍺↓¨⍵ ⋄ u←⍺⍺¨⌽⍺↑¨⍵ ⋄ u,¨t}\n",
    "⍝ example in steps\n",
    "t←(2 0) {⍺↓¨⍵} 'DCM2' 'NZ1'                    ⍝ (1) => ['M2', 'NZ1']\n",
    "u←(2 0) ⌽ {⍺⍺¨⌽⍺↑¨⍵} 'DCM2' 'NZ1'              ⍝ (2) => ['', 'CD']\n",
    "u,¨t                                           ⍝ (3)"
   ]
  },
  {
   "cell_type": "code",
   "execution_count": null,
   "id": "a1e4a841-614b-4186-bc24-1389c3ed2f6c",
   "metadata": {},
   "outputs": [],
   "source": [
    "update←{(⊃⍺)0⍺⍺ pop_and_move @(1↓⍺)⊢⍵}"
   ]
  },
  {
   "cell_type": "markdown",
   "id": "277e38b4-087c-496d-8c72-733b45beed99",
   "metadata": {},
   "source": [
    "### update explained:\n",
    "```\n",
    "update←{(⊃⍺)0⍺⍺ pop_and_move @(1↓⍺)⊢⍵}\n",
    "```\n",
    "⍺ is the move, e.g. (1 2 1); ⍵ is the current state of the crates, e.g. ('NZ1' 'DCM2 'P3'); and, ⍺⍺ is the function to pass to pop_and_move.\n",
    "\n",
    "How @ works: `{5+⍵}@(1 3)⊢1 2 3 4 5` adds 5 to the values at index 1 and 3.\n",
    "\n",
    "Note: ⊢ stops us from having to put parentheses around the whole @ term, i.e. avoids `({5+⍵}@(1 3))1 2 3 4 5`\n",
    "\n",
    "So, `@(1↓⍺)⊢⍵` sets the indices to replace in ⍵ to the 'from' and 'to' (drops the 'number to lift').\n",
    "\n",
    "`(⊃⍺)0` gives a 2-vector of (number_to_lift, 0) which is passed to pop_and_move.\n",
    "\n",
    "To summarise, update replaces the changed stacks with the result of pop_and_move. \n"
   ]
  },
  {
   "cell_type": "code",
   "execution_count": null,
   "id": "96e7fc32-7b4c-4269-b109-6d58b9d4cc41",
   "metadata": {},
   "outputs": [],
   "source": [
    "⍝ alpha is the current move, reduce goes through them in reverse order using the last item as the starting value (see below)\n",
    "assert 'CMZ' = ⊃¨⊃⌽update/(⌽moves),⊂starting ⍝ part 1\n",
    "assert 'MCD' = ⊃¨⊃⊢update/(⌽moves),⊂starting ⍝ part 2"
   ]
  },
  {
   "cell_type": "markdown",
   "id": "79ae2b3a-658c-41f6-b003-acf10e144d55",
   "metadata": {},
   "source": [
    "### How reduce behaves\n",
    "Consider this example:\n",
    "```\n",
    "+/1 2 3 4\n",
    "```\n",
    "Reduce sets the initial value to 4, and then adds the 3, then the two, and then the one, i.e. it works right to left.\n",
    "\n",
    "⍺ is the value being added.\n",
    "\n",
    "⍵ is the running total.\n"
   ]
  },
  {
   "cell_type": "code",
   "execution_count": null,
   "id": "a70711e4-bbb4-4a90-9eef-53333becc073",
   "metadata": {},
   "outputs": [],
   "source": [
    "add ← {⎕ ← ⍺ ⍵ ⋄ ⍺ + ⍵}\n",
    "add/1 2 3 4"
   ]
  },
  {
   "cell_type": "markdown",
   "id": "35aa7dfe-a4d1-4717-872d-753a0cb31832",
   "metadata": {},
   "source": [
    "#### Real data"
   ]
  },
  {
   "cell_type": "code",
   "execution_count": null,
   "id": "d3002541-ddc5-4869-99fa-d6553915d839",
   "metadata": {},
   "outputs": [],
   "source": [
    "starting moves ← {⍵⊆⍨×≢¨⍵}⊃⎕NGET'input.txt'1\n",
    "starting ← ~∘' '¨{⍵/⍨2=4|⍳≢⍵}↓⍉↑starting\n",
    "moves ← ⍎¨¨'\\d+'⎕S'&'¨moves\n",
    "assert 'LBLVVTVLP' = ⊃¨⊃⌽update/(⌽moves),⊂starting ⍝ part 1\n",
    "assert 'TPFFBDRJD' = ⊃¨⊃⊢update/(⌽moves),⊂starting ⍝ part 2"
   ]
  }
 ],
 "metadata": {
  "kernelspec": {
   "display_name": "Dyalog APL",
   "language": "apl",
   "name": "dyalog_apl"
  },
  "language_info": {
   "file_extension": ".apl",
   "mimetype": "text/apl",
   "name": "APL"
  }
 },
 "nbformat": 4,
 "nbformat_minor": 5
}
