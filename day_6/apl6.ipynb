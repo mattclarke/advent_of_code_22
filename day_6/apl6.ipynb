{
 "cells": [
  {
   "cell_type": "code",
   "execution_count": null,
   "id": "1aa40a50-a81f-474a-847b-e40f1cc87c5b",
   "metadata": {},
   "outputs": [],
   "source": [
    "⎕IO ← 1            ⍝ Index origin is ONE\n",
    "]box on -style=max ⍝ Show boxes at max verbosity\n",
    "]rows on           ⍝ Don't wrap long output lines\n",
    "I←⌷⍨∘⊃⍨⍤0 99       ⍝ Sane indexing\n",
    "assert ← {⍺ ← 'assertion failure' ⋄ 0∊⍵: ⍺ ⎕signal 8 ⋄ shy ← 0} ⍝ assert"
   ]
  },
  {
   "cell_type": "markdown",
   "id": "fd9d620f-03eb-4329-aa16-d4029aac1cb6",
   "metadata": {},
   "source": [
    "## Part 1: find the first four unique chars"
   ]
  },
  {
   "cell_type": "markdown",
   "id": "61eb9c9c-57b5-4b2b-8862-e6eb00012597",
   "metadata": {},
   "source": [
    "#### Example data"
   ]
  },
  {
   "cell_type": "code",
   "execution_count": null,
   "id": "69333008-7312-4154-a1a8-bd0dcde5bc9a",
   "metadata": {},
   "outputs": [],
   "source": [
    "example ← 'mjqjpqmgbljsphdztnvjfqwrcgsmlb'"
   ]
  },
  {
   "cell_type": "code",
   "execution_count": null,
   "id": "ccac7134-3ef4-4b9d-bade-076bd85181c8",
   "metadata": {},
   "outputs": [],
   "source": [
    "len ←≢example\n",
    "mat ← ↓(len-3) (len+1) ⍴ example\n",
    "mask ← 1 1 1 1, (len-3)⍴0\n",
    "⍝ V1: Create an array of arrays where each array starts with the next letter\n",
    "⍝ Apply a mask to get the first four letters\n",
    "⍝ Remove the duplicates and calculate the tally\n",
    "⍝ Finally find the first 4\n",
    "⍝ Includes crazy gymnastics to get the matrix into an array though\n",
    "3+{4⍳⍨⍵}¨↓⍉{≢∪↑⍵}¨↑{mask⊆⍵}¨mat\n",
    "⍝ V2: Released that could just take the first 4\n",
    "3+4⍳⍨{≢∪⍵}¨{4↑⍵}¨mat"
   ]
  },
  {
   "cell_type": "markdown",
   "id": "193963c5-8323-420e-befa-51b73a81fae6",
   "metadata": {},
   "source": [
    "### Real data"
   ]
  },
  {
   "cell_type": "code",
   "execution_count": null,
   "id": "0543bb44-71fa-440d-b1ad-b10c6926779e",
   "metadata": {},
   "outputs": [],
   "source": [
    "input← ⊃⎕NGET'input.txt'0\n",
    "len ← ≢input\n",
    "mat ← ↓(len-3) (len+1) ⍴ input\n",
    "assert 1275 = 3+4⍳⍨{≢∪⍵}¨{4↑⍵}¨mat"
   ]
  },
  {
   "cell_type": "markdown",
   "id": "ef1518c9-c0be-4fb8-92b8-456a7f99fba9",
   "metadata": {},
   "source": [
    "### Internet solution"
   ]
  },
  {
   "cell_type": "code",
   "execution_count": null,
   "id": "5c6c9c77-8c26-41d9-91b4-c2c9f2b4b77b",
   "metadata": {},
   "outputs": [],
   "source": [
    "3+4⍳⍨≢¨4∪/example ⍝ Reduce lets you specify a chunk size"
   ]
  },
  {
   "cell_type": "markdown",
   "id": "9673b6c6-e96c-495b-a19e-7f90cb830dbc",
   "metadata": {},
   "source": [
    "## Part 2: 14 rather than 4"
   ]
  },
  {
   "cell_type": "code",
   "execution_count": null,
   "id": "0d5267a4-7e4f-4911-934a-e7850f7bdc5d",
   "metadata": {},
   "outputs": [],
   "source": [
    "assert 3605 = 13+14⍳⍨≢¨14∪/input"
   ]
  },
  {
   "cell_type": "code",
   "execution_count": null,
   "id": "9f52b7da-7ead-4e97-ae72-9263fad83deb",
   "metadata": {},
   "outputs": [],
   "source": []
  }
 ],
 "metadata": {
  "kernelspec": {
   "display_name": "Dyalog APL",
   "language": "apl",
   "name": "dyalog_apl"
  },
  "language_info": {
   "file_extension": ".apl",
   "mimetype": "text/apl",
   "name": "APL"
  }
 },
 "nbformat": 4,
 "nbformat_minor": 5
}
