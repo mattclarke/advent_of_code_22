{
 "cells": [
  {
   "cell_type": "code",
   "execution_count": null,
   "id": "1aa40a50-a81f-474a-847b-e40f1cc87c5b",
   "metadata": {},
   "outputs": [],
   "source": [
    "⎕IO ← 0            ⍝ Index origin is zero\n",
    "]box on -style=max ⍝ Show boxes at max verbosity\n",
    "]rows on           ⍝ Don't wrap long output lines\n",
    "I←⌷⍨∘⊃⍨⍤0 99       ⍝ Sane indexing\n",
    "assert ← {⍺ ← 'assertion failure' ⋄ 0∊⍵: ⍺ ⎕signal 8 ⋄ shy ← 0} ⍝ assert"
   ]
  },
  {
   "cell_type": "markdown",
   "id": "52fdbb84-49af-433a-8705-4fa291ec0341",
   "metadata": {},
   "source": [
    "## Part 1: find the letter that appears in both halves of the string"
   ]
  },
  {
   "cell_type": "markdown",
   "id": "61eb9c9c-57b5-4b2b-8862-e6eb00012597",
   "metadata": {},
   "source": [
    "#### Example data"
   ]
  },
  {
   "cell_type": "code",
   "execution_count": null,
   "id": "5e566439-2c49-40ec-9f47-56705f22d48b",
   "metadata": {},
   "outputs": [],
   "source": [
    "example_data ← ⊆ 'vJrwpWtwJgWrhcsFMMfFFhFp' 'jqHRNqRjqzjGDLGLrsFMfFZSrLrFZsSL' 'PmmdzqPrVvPwwTWBwg' 'wMqvLMZHhHMvwLHjbvcjnnSBnvTQFn' 'ttgJtRGJQctTZtZT' 'CrZsJsPPZsGzwwsLwLmpwMDw'"
   ]
  },
  {
   "cell_type": "code",
   "execution_count": null,
   "id": "22f3fba7-7492-4a1e-9c3a-bdece8389005",
   "metadata": {},
   "outputs": [],
   "source": [
    "⎕ ← single ← ⊆ 'jqHRNqRjqzjGDLGLrsFMfFZSrLrFZsSL'   ⍝ Let's start with just one string"
   ]
  },
  {
   "cell_type": "code",
   "execution_count": null,
   "id": "20f7756b-13e3-47f8-9463-48ebc10b8742",
   "metadata": {},
   "outputs": [],
   "source": [
    "⎕ ← half ← {(≢⍵)÷2}¨single    ⍝ find the midpoint\n",
    "⎕ ← {2 half ⍴⍵}¨single        ⍝ Reshape into two parts\n",
    "⎕ ← {↓2 half ⍴⍵}¨single       ⍝ Increase the depth\n",
    "⎕ ← {∩/↓2 half ⍴⍵}¨single     ⍝ Find the union\n",
    "⎕ ← {∪¨∩/↓2 half ⍴⍵}¨single   ⍝ Make unique\n",
    "⎕ ← ∊{∪¨∩/↓2 half ⍴⍵}¨single  ⍝ Collapse the data into a single array using 'enlist'"
   ]
  },
  {
   "cell_type": "markdown",
   "id": "b7bf4a5d-d4cd-4b7a-8949-05d2d19e6293",
   "metadata": {},
   "source": [
    "Do the whole dataset"
   ]
  },
  {
   "cell_type": "code",
   "execution_count": null,
   "id": "cd9eb0c2-c609-408f-92ab-7fdfe9656aa8",
   "metadata": {},
   "outputs": [],
   "source": [
    "∊{∪¨∩/↓2 ((≢⍵)÷2) ⍴⍵}¨example_data"
   ]
  },
  {
   "cell_type": "markdown",
   "id": "4db048ac-5373-4490-8916-60f4a95055af",
   "metadata": {},
   "source": [
    "Score the letters"
   ]
  },
  {
   "cell_type": "code",
   "execution_count": null,
   "id": "c9c6ed5a-2dc0-417c-9021-2abf93329181",
   "metadata": {},
   "outputs": [],
   "source": [
    "⎕ ← letters ← (⎕UCS 97+⍳26),⎕A"
   ]
  },
  {
   "cell_type": "code",
   "execution_count": null,
   "id": "e0f35376-cf07-48f1-9bdc-7db2a7fc9b91",
   "metadata": {},
   "outputs": [],
   "source": [
    "⎕IO ← 1 ⍝ Set index back to 1 based as a == 1\n",
    "⎕ ← letters⍳∊{∪¨∩/↓2 ((≢⍵)÷2) ⍴⍵}¨example_data\n",
    "⎕ ← +/letters⍳∊{∪¨∩/↓2 ((≢⍵)÷2) ⍴⍵}¨example_data"
   ]
  },
  {
   "cell_type": "markdown",
   "id": "35aa7dfe-a4d1-4717-872d-753a0cb31832",
   "metadata": {},
   "source": [
    "#### Real data"
   ]
  },
  {
   "cell_type": "code",
   "execution_count": null,
   "id": "333bfb35-682c-48c0-abac-57b539e8d645",
   "metadata": {},
   "outputs": [],
   "source": [
    "⎕IO ← 1 ⍝ Set index back to 1 based as a == 1\n",
    "input ← ⊃⎕NGET'input.txt'1\n",
    "assert 8018 = +/letters⍳∊{∪¨∩/↓2 ((≢⍵)÷2) ⍴⍵}¨input"
   ]
  },
  {
   "cell_type": "markdown",
   "id": "4f160109-fca1-46e1-be25-e94a93bac369",
   "metadata": {},
   "source": [
    "## Part 2: find the unique letters in each group of three"
   ]
  },
  {
   "cell_type": "markdown",
   "id": "d93d618b-76c7-4e52-824c-05034facbc85",
   "metadata": {},
   "source": [
    "#### Real data"
   ]
  },
  {
   "cell_type": "code",
   "execution_count": null,
   "id": "d708ff73-38bf-42cd-b811-0470710a216d",
   "metadata": {},
   "outputs": [],
   "source": [
    "threes ← {((≢⍵)÷3) 3 ⍴⍵}input      ⍝ Shape into groups of three\n",
    "assert 2518 = +/letters⍳∊⊃¨∩/threes"
   ]
  }
 ],
 "metadata": {
  "kernelspec": {
   "display_name": "Dyalog APL",
   "language": "apl",
   "name": "dyalog_apl"
  },
  "language_info": {
   "file_extension": ".apl",
   "mimetype": "text/apl",
   "name": "APL"
  }
 },
 "nbformat": 4,
 "nbformat_minor": 5
}
