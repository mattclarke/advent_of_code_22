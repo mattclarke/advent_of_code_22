{
 "cells": [
  {
   "cell_type": "code",
   "execution_count": null,
   "id": "1aa40a50-a81f-474a-847b-e40f1cc87c5b",
   "metadata": {},
   "outputs": [],
   "source": [
    "⎕IO ← 0            ⍝ Index origin is zero\n",
    "]box on -style=max ⍝ Show boxes at max verbosity\n",
    "]rows on           ⍝ Don't wrap long output lines\n",
    "I←⌷⍨∘⊃⍨⍤0 99       ⍝ Sane indexing\n",
    "assert ← {⍺ ← 'assertion failure' ⋄ 0∊⍵: ⍺ ⎕signal 8 ⋄ shy ← 0} ⍝ assert"
   ]
  },
  {
   "cell_type": "markdown",
   "id": "52fdbb84-49af-433a-8705-4fa291ec0341",
   "metadata": {},
   "source": [
    "## Part 1: using the strategy guide"
   ]
  },
  {
   "cell_type": "markdown",
   "id": "61eb9c9c-57b5-4b2b-8862-e6eb00012597",
   "metadata": {},
   "source": [
    "#### Example data"
   ]
  },
  {
   "cell_type": "code",
   "execution_count": null,
   "id": "5e566439-2c49-40ec-9f47-56705f22d48b",
   "metadata": {},
   "outputs": [],
   "source": [
    "⎕ ← example_data ← ↑'A Y' 'B X' 'C Z'     ⍝ Rock = A and X, paper = B and Y, scissors = C and Z\n",
    "example_data ← 1 0 1/example_data"
   ]
  },
  {
   "cell_type": "markdown",
   "id": "7f0351e4-2839-41ca-9f61-cf306fcf192b",
   "metadata": {},
   "source": [
    "Map A and X to 0, B and Y to 1, and C and Z to 2"
   ]
  },
  {
   "cell_type": "code",
   "execution_count": null,
   "id": "1cfe0d21-2b1a-43c4-9f84-202c619bce69",
   "metadata": {},
   "outputs": [],
   "source": [
    "⎕ ← example_data ← {22<⍵: ⍵ - 23 ⋄ ⍵}¨⎕A⍳example_data"
   ]
  },
  {
   "cell_type": "markdown",
   "id": "c6af9233-8ef3-4732-a1c2-6298d09c9b90",
   "metadata": {},
   "source": [
    "Rock = 0, paper = 1, scissors = 2"
   ]
  },
  {
   "cell_type": "markdown",
   "id": "5f1eca87-8f80-4a33-b886-ea3bb24e6e01",
   "metadata": {},
   "source": [
    "Rescale using 1 - (diff)\n",
    "```\n",
    "Rock vs Rock         => 0 vs 0 => 1 - (0 - 0) => 1         # Draw\n",
    "Rock vs Paper        => 0 vs 1 => 1 - (0 - 1) => 2         # Win for second player (us)\n",
    "Rock vs Scissors     => 0 vs 2 => 1 - (0 - 2) => 3         # Loss for second player (us)\n",
    "Paper vs Rock        => 1 vs 0 => 1 - (1 - 0) => 0         # Loss for second player (us)\n",
    "Paper vs Paper       => 1 vs 1 => 1 - (0 - 0) => 1         # Draw\n",
    "Paper vs Scissors    => 1 vs 2 => 1 - (1 - 2) => 2         # Win for second player (us)\n",
    "Scissors vs Rock     => 2 vs 0 => 1 - (2 - 0) => -1        # Win for second player (us)\n",
    "Scissors vs Paper    => 2 vs 1 => 1 - (2 - 1) => 0         # Loss for second player (us)\n",
    "Scissors vs Scissors => 2 vs 2 => 1 - (2 - 2) => 1         # Draw\n",
    "```\n"
   ]
  },
  {
   "cell_type": "code",
   "execution_count": null,
   "id": "621009cc-1ea7-4818-b13f-6e400cc3e2f8",
   "metadata": {},
   "outputs": [],
   "source": [
    "{1--/⍵}example_data"
   ]
  },
  {
   "cell_type": "markdown",
   "id": "a989dd93-e3dc-458f-9fba-f5453a7c114c",
   "metadata": {},
   "source": [
    "Use modulus to take care of the -1 as `3 mod -1 = 2` and both 2 and -1 are wins"
   ]
  },
  {
   "cell_type": "code",
   "execution_count": null,
   "id": "92d3bf4a-b8d4-45be-b928-4e9aa732b769",
   "metadata": {},
   "outputs": [],
   "source": [
    "{3|1--/⍵}example_data"
   ]
  },
  {
   "cell_type": "markdown",
   "id": "2d574887-5ceb-4fa5-ab5f-b38ef2fc825a",
   "metadata": {},
   "source": [
    "It is 6 points for a win, 3 points for a draw and 0 for a loss"
   ]
  },
  {
   "cell_type": "code",
   "execution_count": null,
   "id": "cb745d5e-ddb0-4ed0-a51f-83842f04c21e",
   "metadata": {},
   "outputs": [],
   "source": [
    "{3×3|1--/⍵}example_data"
   ]
  },
  {
   "cell_type": "markdown",
   "id": "320204fe-d1d5-482e-a519-78c9c250ece9",
   "metadata": {},
   "source": [
    "We also need to include the score for what we choose, 1 for rock, 2 for paper and 3 for scissors"
   ]
  },
  {
   "cell_type": "code",
   "execution_count": null,
   "id": "43704335-2a85-4fdb-a084-dd83e9c1836a",
   "metadata": {},
   "outputs": [],
   "source": [
    "{1+⊢/⍵}example_data     ⍝ Add 1 to the second row and discard the first row (right tack means take the righthand value)"
   ]
  },
  {
   "cell_type": "markdown",
   "id": "76ec6b3e-a7bc-4364-ac18-58ca7bf4c04d",
   "metadata": {},
   "source": [
    "Add the two parts together and sum"
   ]
  },
  {
   "cell_type": "code",
   "execution_count": null,
   "id": "5c64e62f-a758-407b-a4da-ac17b1b730b5",
   "metadata": {},
   "outputs": [],
   "source": [
    "assert 15 = +/{(1+⊢/⍵)+3×3|1--/⍵}example_data"
   ]
  },
  {
   "cell_type": "markdown",
   "id": "35aa7dfe-a4d1-4717-872d-753a0cb31832",
   "metadata": {},
   "source": [
    "#### Real data"
   ]
  },
  {
   "cell_type": "code",
   "execution_count": null,
   "id": "333bfb35-682c-48c0-abac-57b539e8d645",
   "metadata": {},
   "outputs": [],
   "source": [
    "input← ↑⍎¨⊃⎕NGET'input.txt'1\n",
    "assert 13221 = +/{(1+⊢/⍵)+3×3|1--/⍵}input"
   ]
  },
  {
   "cell_type": "markdown",
   "id": "4f160109-fca1-46e1-be25-e94a93bac369",
   "metadata": {},
   "source": [
    "## Part 2: second column is the desired result\n",
    "0 is lose, 1 is draw, 2 is win"
   ]
  },
  {
   "cell_type": "code",
   "execution_count": null,
   "id": "fe5377b6-4fdd-40cd-9de1-f60a7b7d98d0",
   "metadata": {},
   "outputs": [],
   "source": [
    "{1+3|(+/⍵)-1}example_data     ⍝ Score the card played"
   ]
  },
  {
   "cell_type": "code",
   "execution_count": null,
   "id": "83d4d251-56d6-4bb9-a200-b2b8ec22e55f",
   "metadata": {},
   "outputs": [],
   "source": [
    "{3×⊢/⍵}example_data     ⍝ Score the result"
   ]
  },
  {
   "cell_type": "code",
   "execution_count": null,
   "id": "187e2892-7149-4c3f-8d8a-2da09035c830",
   "metadata": {},
   "outputs": [],
   "source": [
    "assert 12 = {+/(3×⊢/⍵)+1+3|(+/⍵)-1}example_data"
   ]
  },
  {
   "cell_type": "markdown",
   "id": "d93d618b-76c7-4e52-824c-05034facbc85",
   "metadata": {},
   "source": [
    "#### Real data"
   ]
  },
  {
   "cell_type": "code",
   "execution_count": null,
   "id": "d56f83e4-0a79-4058-bba5-a417799730a0",
   "metadata": {},
   "outputs": [],
   "source": [
    "assert 13131 = {+/(3×⊢/⍵)+1+3|(+/⍵)-1}input"
   ]
  },
  {
   "cell_type": "code",
   "execution_count": null,
   "id": "1b7b2d0e-a426-4ab3-851f-5ea55283d933",
   "metadata": {},
   "outputs": [],
   "source": [
    "assert 13131 = {+/(3×⊢/⍵)+1+3|2++/⍵}input     ⍝ Internet solution"
   ]
  },
  {
   "cell_type": "code",
   "execution_count": null,
   "id": "8cc65b65-a81b-4edc-a995-c69f08331443",
   "metadata": {},
   "outputs": [],
   "source": []
  }
 ],
 "metadata": {
  "kernelspec": {
   "display_name": "Dyalog APL",
   "language": "apl",
   "name": "dyalog_apl"
  },
  "language_info": {
   "file_extension": ".apl",
   "mimetype": "text/apl",
   "name": "APL"
  }
 },
 "nbformat": 4,
 "nbformat_minor": 5
}
