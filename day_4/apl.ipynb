{
 "cells": [
  {
   "cell_type": "code",
   "execution_count": null,
   "id": "1aa40a50-a81f-474a-847b-e40f1cc87c5b",
   "metadata": {},
   "outputs": [],
   "source": [
    "⎕IO ← 0            ⍝ Index origin is zero\n",
    "]box on -style=max ⍝ Show boxes at max verbosity\n",
    "]rows on           ⍝ Don't wrap long output lines\n",
    "I←⌷⍨∘⊃⍨⍤0 99       ⍝ Sane indexing\n",
    "assert ← {⍺ ← 'assertion failure' ⋄ 0∊⍵: ⍺ ⎕signal 8 ⋄ shy ← 0} ⍝ assert"
   ]
  },
  {
   "cell_type": "markdown",
   "id": "fd9d620f-03eb-4329-aa16-d4029aac1cb6",
   "metadata": {},
   "source": [
    "## Part 1: ranges that fully overlap"
   ]
  },
  {
   "cell_type": "markdown",
   "id": "61eb9c9c-57b5-4b2b-8862-e6eb00012597",
   "metadata": {},
   "source": [
    "#### Example data"
   ]
  },
  {
   "cell_type": "code",
   "execution_count": null,
   "id": "5e566439-2c49-40ec-9f47-56705f22d48b",
   "metadata": {},
   "outputs": [],
   "source": [
    "⎕ ← example_data ← ⊃⎕NGET'ex1.txt'1\n",
    "'2-4,6-8'∊⎕D                ⍝ left is member of right (⎕D represents chars 0 to 9)\n",
    "('2-4,6-8'∊⎕D)⊆'2-4,6-8'    ⍝ Use parition to extract what we need\n",
    "{(⍵∊⎕D)⊆⍵}'2-4,6-8'         ⍝ Tidy\n",
    "{⍎¨(⍵∊⎕D)⊆⍵}'2-4,6-8'         ⍝ Convert to numbers\n",
    "{⍎¨(⍵∊⎕D)⊆⍵}¨example_data     ⍝ Apply to whole data\n",
    "↑{⍎¨(⍵∊⎕D)⊆⍵}¨example_data    ⍝ Change to matrix\n",
    "⍉↑{⍎¨(⍵∊⎕D)⊆⍵}¨example_data   ⍝ Transpose\n",
    "↓⍉↑{⍎¨(⍵∊⎕D)⊆⍵}¨example_data   ⍝ Change back from matrix\n",
    "a b c d ← ↓⍉↑{⍎¨(⍵∊⎕D)⊆⍵}¨example_data ⍝ assign each array to a separate variable"
   ]
  },
  {
   "cell_type": "raw",
   "id": "61c67973-8c6b-4490-96e3-2e1a440c1b29",
   "metadata": {},
   "source": [
    "2-8,3-7 fully overlaps\n",
    "2-3 = -1\n",
    "8-7 = 1\n",
    "-1 x 1 = -1\n",
    "\n",
    "2-8,2-8 exactly the same\n",
    "2-2 = 0\n",
    "8-8 = 0\n",
    "0 x 0 = 0\n",
    "\n",
    "2-4,5-7 no overlap\n",
    "2-5 = -3\n",
    "4-7 = -3\n",
    "-3 x -3 = 9\n",
    "\n",
    "2-4,3-7 partial overlap\n",
    "2-3 = -1\n",
    "4-7 = -3\n",
    "-1 x -3 = 3"
   ]
  },
  {
   "cell_type": "markdown",
   "id": "bbfab513-82c5-400d-a5bd-df2b9d4f9c61",
   "metadata": {},
   "source": [
    "Above shows that if `(a - c) x (b - d)` is less than equal to zero then it fully overlaps"
   ]
  },
  {
   "cell_type": "code",
   "execution_count": null,
   "id": "f51be951-bbf1-459d-aaba-1e0b2b68a6fd",
   "metadata": {},
   "outputs": [],
   "source": [
    "0≥(a-c)×(b-d)\n",
    "assert 2 = +/0≥(a-c)×(b-d)"
   ]
  },
  {
   "cell_type": "markdown",
   "id": "35aa7dfe-a4d1-4717-872d-753a0cb31832",
   "metadata": {},
   "source": [
    "#### Real data"
   ]
  },
  {
   "cell_type": "code",
   "execution_count": null,
   "id": "420867e0-bc2c-4a92-914e-ce3f6030856e",
   "metadata": {},
   "outputs": [],
   "source": [
    "a b c d ← ↓⍉↑{⍎¨(⍵∊⎕D)⊆⍵}¨⊃⎕NGET'input.txt'1\n",
    "assert 518 = +/0≥(a-c)×(b-d)"
   ]
  },
  {
   "cell_type": "markdown",
   "id": "4f160109-fca1-46e1-be25-e94a93bac369",
   "metadata": {},
   "source": [
    "## Part 2: ranges that fully overlap"
   ]
  },
  {
   "cell_type": "raw",
   "id": "6ab138af-84a0-458b-8c3b-5cd8cd78d8c4",
   "metadata": {},
   "source": [
    "2-8,3-7 fully overlaps\n",
    "2-7 = -5\n",
    "3-8 = -5\n",
    "-5 x -5 = 25\n",
    "\n",
    "2-8,2-8 exactly the same\n",
    "2-8 = -6\n",
    "2-6 = -4\n",
    "-6 x -4 = 24\n",
    "\n",
    "2-4,5-7 no overlap\n",
    "2-7 = -5\n",
    "5-4 = 1\n",
    "-5 x 1 = -5\n",
    "\n",
    "2-4,3-7 partial overlap\n",
    "2-7 = -5\n",
    "3-4 = -1\n",
    "-5 x -1 = 5"
   ]
  },
  {
   "cell_type": "markdown",
   "id": "c24c0eef-09b5-4ef2-b207-a204c7341213",
   "metadata": {},
   "source": [
    "Above shows that if `(a - d) x (c - b)` is greater than or equal to zero then it overlaps"
   ]
  },
  {
   "cell_type": "markdown",
   "id": "d93d618b-76c7-4e52-824c-05034facbc85",
   "metadata": {},
   "source": [
    "#### Real data"
   ]
  },
  {
   "cell_type": "code",
   "execution_count": null,
   "id": "acc065ea-c9c8-4db4-b227-fcddef999b5e",
   "metadata": {},
   "outputs": [],
   "source": [
    "a b c d ← ↓⍉↑{⍎¨(⍵∊⎕D)⊆⍵}¨⊃⎕NGET'input.txt'1\n",
    "assert 909 = +/0≤(a-d)×(c-b)"
   ]
  },
  {
   "cell_type": "code",
   "execution_count": null,
   "id": "21a0a46b-8538-41e6-978b-35f6e9d06f06",
   "metadata": {},
   "outputs": [],
   "source": []
  }
 ],
 "metadata": {
  "kernelspec": {
   "display_name": "Dyalog APL",
   "language": "apl",
   "name": "dyalog_apl"
  },
  "language_info": {
   "file_extension": ".apl",
   "mimetype": "text/apl",
   "name": "APL"
  }
 },
 "nbformat": 4,
 "nbformat_minor": 5
}
